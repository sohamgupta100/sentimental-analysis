{
 "cells": [
  {
   "cell_type": "code",
   "execution_count": 1,
   "id": "9056aa95",
   "metadata": {},
   "outputs": [],
   "source": [
    "import string\n",
    "from collections import Counter #counts number of emotions in a text\n",
    "import matplotlib.pyplot as plt"
   ]
  },
  {
   "cell_type": "code",
   "execution_count": 2,
   "id": "a6180d66",
   "metadata": {},
   "outputs": [],
   "source": [
    "text = open(\"read.txt\", encoding = 'utf-8').read() #utf-8 -> for encoing in computer language"
   ]
  },
  {
   "cell_type": "code",
   "execution_count": 3,
   "id": "43b4591e",
   "metadata": {},
   "outputs": [
    {
     "data": {
      "text/plain": [
       "'Breakups are one of the toughest experiences of our life because they drain us emotionally, physically, and mentally. Share one of the breakup paragraphs with your ex-partner to convey your hurt and sadness to them. During the breakup phase, we are hurt, frustrated, angry, empty, and there is no magic pill to overcome the pain. But expressing your deep pain and innermost feelings with your ex can be therapeutic and will help relieve you of the pain and trauma of breakup. So, plunge into our post for some deep and meaningful breakup paragraphs that you can send to your ex.'"
      ]
     },
     "execution_count": 3,
     "metadata": {},
     "output_type": "execute_result"
    }
   ],
   "source": [
    "text"
   ]
  },
  {
   "cell_type": "code",
   "execution_count": 4,
   "id": "80a1217a",
   "metadata": {},
   "outputs": [
    {
     "data": {
      "text/plain": [
       "'breakups are one of the toughest experiences of our life because they drain us emotionally, physically, and mentally. share one of the breakup paragraphs with your ex-partner to convey your hurt and sadness to them. during the breakup phase, we are hurt, frustrated, angry, empty, and there is no magic pill to overcome the pain. but expressing your deep pain and innermost feelings with your ex can be therapeutic and will help relieve you of the pain and trauma of breakup. so, plunge into our post for some deep and meaningful breakup paragraphs that you can send to your ex.'"
      ]
     },
     "execution_count": 4,
     "metadata": {},
     "output_type": "execute_result"
    }
   ],
   "source": [
    "#Converting all the characters in read.txt file to lowercase\n",
    "lower_case = text.lower()\n",
    "lower_case"
   ]
  },
  {
   "cell_type": "code",
   "execution_count": 5,
   "id": "98cec93b",
   "metadata": {},
   "outputs": [
    {
     "data": {
      "text/plain": [
       "'breakups are one of the toughest experiences of our life because they drain us emotionally physically and mentally share one of the breakup paragraphs with your expartner to convey your hurt and sadness to them during the breakup phase we are hurt frustrated angry empty and there is no magic pill to overcome the pain but expressing your deep pain and innermost feelings with your ex can be therapeutic and will help relieve you of the pain and trauma of breakup so plunge into our post for some deep and meaningful breakup paragraphs that you can send to your ex'"
      ]
     },
     "execution_count": 5,
     "metadata": {},
     "output_type": "execute_result"
    }
   ],
   "source": [
    "#removing punctuations from the text\n",
    "# \"\" -> replace the punctuations in the txt file with \"\" (NULL)\n",
    "clean_text = lower_case.translate(str.maketrans(\"\", \"\", string.punctuation))\n",
    "clean_text"
   ]
  },
  {
   "cell_type": "code",
   "execution_count": 6,
   "id": "b31d82ba",
   "metadata": {},
   "outputs": [
    {
     "data": {
      "text/plain": [
       "['breakups',\n",
       " 'are',\n",
       " 'one',\n",
       " 'of',\n",
       " 'the',\n",
       " 'toughest',\n",
       " 'experiences',\n",
       " 'of',\n",
       " 'our',\n",
       " 'life',\n",
       " 'because',\n",
       " 'they',\n",
       " 'drain',\n",
       " 'us',\n",
       " 'emotionally',\n",
       " 'physically',\n",
       " 'and',\n",
       " 'mentally',\n",
       " 'share',\n",
       " 'one',\n",
       " 'of',\n",
       " 'the',\n",
       " 'breakup',\n",
       " 'paragraphs',\n",
       " 'with',\n",
       " 'your',\n",
       " 'expartner',\n",
       " 'to',\n",
       " 'convey',\n",
       " 'your',\n",
       " 'hurt',\n",
       " 'and',\n",
       " 'sadness',\n",
       " 'to',\n",
       " 'them',\n",
       " 'during',\n",
       " 'the',\n",
       " 'breakup',\n",
       " 'phase',\n",
       " 'we',\n",
       " 'are',\n",
       " 'hurt',\n",
       " 'frustrated',\n",
       " 'angry',\n",
       " 'empty',\n",
       " 'and',\n",
       " 'there',\n",
       " 'is',\n",
       " 'no',\n",
       " 'magic',\n",
       " 'pill',\n",
       " 'to',\n",
       " 'overcome',\n",
       " 'the',\n",
       " 'pain',\n",
       " 'but',\n",
       " 'expressing',\n",
       " 'your',\n",
       " 'deep',\n",
       " 'pain',\n",
       " 'and',\n",
       " 'innermost',\n",
       " 'feelings',\n",
       " 'with',\n",
       " 'your',\n",
       " 'ex',\n",
       " 'can',\n",
       " 'be',\n",
       " 'therapeutic',\n",
       " 'and',\n",
       " 'will',\n",
       " 'help',\n",
       " 'relieve',\n",
       " 'you',\n",
       " 'of',\n",
       " 'the',\n",
       " 'pain',\n",
       " 'and',\n",
       " 'trauma',\n",
       " 'of',\n",
       " 'breakup',\n",
       " 'so',\n",
       " 'plunge',\n",
       " 'into',\n",
       " 'our',\n",
       " 'post',\n",
       " 'for',\n",
       " 'some',\n",
       " 'deep',\n",
       " 'and',\n",
       " 'meaningful',\n",
       " 'breakup',\n",
       " 'paragraphs',\n",
       " 'that',\n",
       " 'you',\n",
       " 'can',\n",
       " 'send',\n",
       " 'to',\n",
       " 'your',\n",
       " 'ex']"
      ]
     },
     "execution_count": 6,
     "metadata": {},
     "output_type": "execute_result"
    }
   ],
   "source": [
    "#TOKENIZATION - splitting the sentences into words\n",
    "tokenized_words = clean_text.split()\n",
    "tokenized_words"
   ]
  },
  {
   "cell_type": "code",
   "execution_count": 7,
   "id": "019315c6",
   "metadata": {},
   "outputs": [],
   "source": [
    "stop_words = [\"i\", \"me\", \"my\", \"myself\", \"we\", \"our\", \"ours\", \"ourselves\", \"you\", \"your\", \"yours\", \"yourself\",\n",
    "              \"yourselves\", \"he\", \"him\", \"his\", \"himself\", \"she\", \"her\", \"hers\", \"herself\", \"it\", \"its\", \"itself\",\n",
    "              \"they\", \"them\", \"their\", \"theirs\", \"themselves\", \"what\", \"which\", \"who\", \"whom\", \"this\", \"that\", \"these\",\n",
    "              \"those\", \"am\", \"is\", \"are\", \"was\", \"were\", \"be\", \"been\", \"being\", \"have\", \"has\", \"had\", \"having\", \"do\",\n",
    "              \"does\", \"did\", \"doing\", \"a\", \"an\", \"the\", \"and\", \"but\", \"if\", \"or\", \"because\", \"as\", \"until\", \"while\",\n",
    "              \"of\", \"at\", \"by\", \"for\", \"with\", \"about\", \"against\", \"between\", \"into\", \"through\", \"during\", \"before\",\n",
    "              \"after\", \"above\", \"below\", \"to\", \"from\", \"up\", \"down\", \"in\", \"out\", \"on\", \"off\", \"over\", \"under\", \"again\",\n",
    "              \"further\", \"then\", \"once\", \"here\", \"there\", \"when\", \"where\", \"why\", \"how\", \"all\", \"any\", \"both\", \"each\",\n",
    "              \"few\", \"more\", \"most\", \"other\", \"some\", \"such\", \"no\", \"nor\", \"not\", \"only\", \"own\", \"same\", \"so\", \"than\",\n",
    "              \"too\", \"very\", \"s\", \"t\", \"can\", \"will\", \"just\", \"don\", \"should\", \"now\"]"
   ]
  },
  {
   "cell_type": "code",
   "execution_count": 8,
   "id": "650a7d7a",
   "metadata": {},
   "outputs": [],
   "source": [
    "#Removing these stopwords from out original text\n",
    "final_words = []\n",
    "for i in tokenized_words:\n",
    "    if i not in stop_words:\n",
    "        final_words.append(i)"
   ]
  },
  {
   "cell_type": "code",
   "execution_count": 9,
   "id": "80502e91",
   "metadata": {},
   "outputs": [
    {
     "data": {
      "text/plain": [
       "['breakups',\n",
       " 'one',\n",
       " 'toughest',\n",
       " 'experiences',\n",
       " 'life',\n",
       " 'drain',\n",
       " 'us',\n",
       " 'emotionally',\n",
       " 'physically',\n",
       " 'mentally',\n",
       " 'share',\n",
       " 'one',\n",
       " 'breakup',\n",
       " 'paragraphs',\n",
       " 'expartner',\n",
       " 'convey',\n",
       " 'hurt',\n",
       " 'sadness',\n",
       " 'breakup',\n",
       " 'phase',\n",
       " 'hurt',\n",
       " 'frustrated',\n",
       " 'angry',\n",
       " 'empty',\n",
       " 'magic',\n",
       " 'pill',\n",
       " 'overcome',\n",
       " 'pain',\n",
       " 'expressing',\n",
       " 'deep',\n",
       " 'pain',\n",
       " 'innermost',\n",
       " 'feelings',\n",
       " 'ex',\n",
       " 'therapeutic',\n",
       " 'help',\n",
       " 'relieve',\n",
       " 'pain',\n",
       " 'trauma',\n",
       " 'breakup',\n",
       " 'plunge',\n",
       " 'post',\n",
       " 'deep',\n",
       " 'meaningful',\n",
       " 'breakup',\n",
       " 'paragraphs',\n",
       " 'send',\n",
       " 'ex']"
      ]
     },
     "execution_count": 9,
     "metadata": {},
     "output_type": "execute_result"
    }
   ],
   "source": [
    "final_words"
   ]
  },
  {
   "cell_type": "code",
   "execution_count": 10,
   "id": "66cf04ba",
   "metadata": {},
   "outputs": [],
   "source": [
    "emotions_list = []\n",
    "with open(\"emotions.txt\") as file:\n",
    "    for line in file:\n",
    "        clear_line = line.replace(\"\\n\", '').replace(\",\", \"\").replace(\"'\", \"\").strip()\n",
    "        \n",
    "        #In key:value format, remove ':' and split the keys and values.\n",
    "        #Store the keys in 'word' variable and the values in 'emotion' variable\n",
    "        word, emotion = clear_line.split(\":\") \n",
    "        \n",
    "        #if the word in emotion.txt is present in the final_word list (derived from read.txt)\n",
    "        if word in final_words:\n",
    "            emotions_list.append(emotion)"
   ]
  },
  {
   "cell_type": "code",
   "execution_count": 11,
   "id": "c8ff01ab",
   "metadata": {},
   "outputs": [
    {
     "name": "stdout",
     "output_type": "stream",
     "text": [
      "[' angry', ' angry', ' sad']\n"
     ]
    }
   ],
   "source": [
    "print(emotions_list)"
   ]
  },
  {
   "cell_type": "code",
   "execution_count": 12,
   "id": "e5f5c752",
   "metadata": {},
   "outputs": [
    {
     "data": {
      "text/plain": [
       "Counter({' angry': 2, ' sad': 1})"
      ]
     },
     "execution_count": 12,
     "metadata": {},
     "output_type": "execute_result"
    }
   ],
   "source": [
    "w = Counter(emotions_list)\n",
    "w"
   ]
  },
  {
   "cell_type": "code",
   "execution_count": 13,
   "id": "beaa878a",
   "metadata": {},
   "outputs": [
    {
     "data": {
      "image/png": "[encoded data removed]",
      "text/plain": [
       "<Figure size 640x480 with 1 Axes>"
      ]
     },
     "metadata": {},
     "output_type": "display_data"
    }
   ],
   "source": [
    "fig, ax1 = plt.subplots()\n",
    "ax1.bar(w.keys(), w.values())\n",
    "plt.show()"
   ]
  },
  {
   "cell_type": "code",
   "execution_count": 14,
   "id": "b032dbb6",
   "metadata": {},
   "outputs": [
    {
     "name": "stderr",
     "output_type": "stream",
     "text": [
      "[nltk_data] Downloading package vader_lexicon to\n",
      "[nltk_data]     C:\\Users\\KIIT\\AppData\\Roaming\\nltk_data...\n",
      "[nltk_data]   Package vader_lexicon is already up-to-date!\n"
     ]
    }
   ],
   "source": [
    "#library for nlp functions\n",
    "import nltk\n",
    "nltk.download('vader_lexicon')\n",
    "from nltk.sentiment.vader import SentimentIntensityAnalyzer"
   ]
  },
  {
   "cell_type": "code",
   "execution_count": 15,
   "id": "45bbdd04",
   "metadata": {},
   "outputs": [],
   "source": [
    "def sentiment_analyze(senti_text):\n",
    "    score = SentimentIntensityAnalyzer().polarity_scores(clean_text)\n",
    "    neg = score['neg']\n",
    "    pos = score['pos']\n",
    "    print(score)\n",
    "    \n",
    "    if pos > neg:\n",
    "        print(\"Positive Sentiment\")\n",
    "    elif pos < neg:\n",
    "        print(\"Negative Sentiment\")\n",
    "    else:\n",
    "        print(\"Neutral Sentiment\")"
   ]
  },
  {
   "cell_type": "code",
   "execution_count": 16,
   "id": "36940343",
   "metadata": {},
   "outputs": [
    {
     "name": "stdout",
     "output_type": "stream",
     "text": [
      "{'neg': 0.237, 'neu': 0.672, 'pos': 0.091, 'compound': -0.9354}\n",
      "Negative Sentiment\n"
     ]
    }
   ],
   "source": [
    "sentiment_analyze(final_words)"
   ]
  },
  {
   "cell_type": "code",
   "execution_count": null,
   "id": "317376b7",
   "metadata": {},
   "outputs": [],
   "source": []
  }
 ],
 "metadata": {
  "kernelspec": {
   "display_name": "Python 3 (ipykernel)",
   "language": "python",
   "name": "python3"
  },
  "language_info": {
   "codemirror_mode": {
    "name": "ipython",
    "version": 3
   },
   "file_extension": ".py",
   "mimetype": "text/x-python",
   "name": "python",
   "nbconvert_exporter": "python",
   "pygments_lexer": "ipython3",
   "version": "3.9.13"
  }
 },
 "nbformat": 4,
 "nbformat_minor": 5
}
